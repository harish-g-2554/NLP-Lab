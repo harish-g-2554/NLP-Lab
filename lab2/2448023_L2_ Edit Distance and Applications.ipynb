{
 "cells": [
  {
   "cell_type": "markdown",
   "id": "6bcbb7b3",
   "metadata": {},
   "source": [
    "# Question 2\n",
    "\n",
    "**Library Used**: NLTK\n",
    "\n",
    "**Function Used**: nltk.metrics.distance.edit_distance\n",
    "\n",
    "This function calculates the Levenshtein edit distance between two strings. It measures the minimum number of single-character edits (insertions, deletions, or substitutions) required to change one string into the other\n",
    "\n",
    "**Levenshtein distance:** The Levenshtein distance is the minimum number of edits (insertions, deletions, or substitutions) needed to change one string into another.\n"
   ]
  },
  {
   "cell_type": "markdown",
   "id": "97d35cd7",
   "metadata": {},
   "source": [
    "**Draft Plan: Edit Distance Calculation**\n",
    "\n",
    "1)Import required function\n",
    "\n",
    "    Load edit_distance from nltk.metrics.distance.\n",
    "\n",
    "2)Define input strings\n",
    "\n",
    "    Assign two strings (e.g., \"leda\" and \"deal\") to variables.\n",
    "\n",
    "3)Call edit_distance() function\n",
    "\n",
    "    Pass both strings as arguments to compute the edit distance.\n",
    "\n",
    "4)Store the result\n",
    "\n",
    "    Save the output of the function in a variable (e.g., distance).\n",
    "\n",
    "5)Display the result\n",
    "\n",
    "    Print the edit distance with a descriptive message."
   ]
  },
  {
   "cell_type": "code",
   "execution_count": 1,
   "id": "d1a18683",
   "metadata": {},
   "outputs": [
    {
     "name": "stdout",
     "output_type": "stream",
     "text": [
      "The edit distance between 'leda' and 'deal' is 3\n"
     ]
    }
   ],
   "source": [
    "import nltk\n",
    "from nltk.metrics.distance import edit_distance\n",
    "\n",
    "# Strings to compare\n",
    "str1 = \"leda\"\n",
    "str2 = \"deal\"\n",
    "\n",
    "# Compute edit distance\n",
    "distance = edit_distance(str1, str2)\n",
    "print(f\"The edit distance between '{str1}' and '{str2}' is {distance}\")\n"
   ]
  },
  {
   "cell_type": "markdown",
   "id": "8df21be1",
   "metadata": {},
   "source": [
    "The First letter is being substituted (l->d) : 1 (Substitution cost)\n",
    "\n",
    "The Third letter is being substituted (d->a) : 1 (Substitution cost)\n",
    "\n",
    "The Fourt letter is being substituted (a->l) : 1 (Substitution cost)\n",
    "\n",
    "So,the total edit distance is 1+1+1\n",
    "\n",
    "Edit distance=3\n",
    "\n"
   ]
  },
  {
   "cell_type": "markdown",
   "id": "a32f0818",
   "metadata": {},
   "source": [
    "# Question 3\n",
    "**Library Used:** Biopython \n",
    "\n",
    "**Functions Used:**\n",
    "\n",
    "1)pairwise2.align.globalxx(seq1, seq2)\n",
    "\n",
    "    i)Performs global pairwise alignment of two sequences using match scores only (no penalties for mismatches/gaps).\n",
    "\n",
    "    i)globalxx: Global alignment with match = +1, mismatch = 0, no gap penalties.\n",
    "\n",
    "2)format_alignment(*a)\n",
    "\n",
    "    Nicely formats the alignment result, showing:\n",
    "\n",
    "    i)Sequence A\n",
    "\n",
    "    ii)Sequence B\n",
    "\n",
    "    iii)Matching positions (with |)\n",
    "\n",
    "    iv)Alignment score and start–end positions"
   ]
  },
  {
   "cell_type": "markdown",
   "id": "6a72600e",
   "metadata": {},
   "source": [
    "**DRAFT PLAN**\n",
    "\n",
    "1)Import Biopython modules\n",
    "\n",
    "    Use pairwise2 for alignment and format_alignment for readable output.\n",
    "\n",
    "2)Define two DNA sequences\n",
    "\n",
    "    Assign the nucleotide strings to textA and textB.\n",
    "\n",
    "3)Perform global alignment\n",
    "\n",
    "    Use pairwise2.align.globalxx() to align both sequences based on common base matches.\n",
    "\n",
    "4)Store all possible alignments\n",
    "\n",
    "    The function returns a list of possible alignments with equal best scores.\n",
    "\n",
    "5)Display the best alignment\n",
    "\n",
    "    Use format_alignment() to neatly show the first (best) result."
   ]
  },
  {
   "cell_type": "code",
   "execution_count": 2,
   "id": "eec71c42",
   "metadata": {},
   "outputs": [
    {
     "name": "stdout",
     "output_type": "stream",
     "text": [
      "-AGGCTATCACCTGACCTC-CAGGC-CGAT--GCCC---\n",
      " | ||||||| | || | | | ||  ||||  ||||   \n",
      "TA-GCTATCA-C-GA-C-CGC-GG-TCGATTTGCCCGAC\n",
      "  Score=24\n",
      "\n"
     ]
    }
   ],
   "source": [
    "from Bio import pairwise2\n",
    "from Bio.pairwise2 import format_alignment\n",
    "import warnings\n",
    "warnings.filterwarnings(\"ignore\")\n",
    "\n",
    "textA = \"AGGCTATCACCTGACCTCCAGGCCGATGCCC\"\n",
    "textB = \"TAGCTATCACGACCGCGGTCGATTTGCCCGAC\"\n",
    "\n",
    "\n",
    "alignments = pairwise2.align.globalxx(textA, textB)\n",
    "\n",
    "# Show best alignment\n",
    "for a in alignments[:1]:  # Display only the best alignment\n",
    "    print(format_alignment(*a))\n"
   ]
  },
  {
   "cell_type": "markdown",
   "id": "ed2325d4",
   "metadata": {},
   "source": [
    "Dashes (-) represent gaps introduced in either sequence to align them optimally.\n",
    "\n",
    "Every vertical bar | indicates a match (same nucleotide in both sequences at that position).\n",
    "\n",
    "Unmarked positions (no |) are mismatches or gaps.\n",
    "\n",
    "**Score = 24**\n",
    "\n",
    "24 out of the total aligned positions match exactly.\n"
   ]
  },
  {
   "cell_type": "markdown",
   "id": "10798817",
   "metadata": {},
   "source": [
    "# Question 4\n",
    "\n",
    "**Library Used**: NLTK\n",
    "\n",
    "**Functions Used:**\n",
    "\n",
    "1)nltk.corpus.words.words()\n",
    "\n",
    "    Loads a vocabulary list of English words from the NLTK corpus.\n",
    "\n",
    "2)nltk.download('words')\n",
    "\n",
    "    Downloads the words corpus, if not already present.\n",
    "\n",
    "3)nltk.metrics.distance.edit_distance()\n",
    "\n",
    "    Computes the Levenshtein distance between two strings — the number of edits needed to transform one string into another.\n",
    "\n",
    "**DRAFT PLAN**\n",
    "\n",
    "1)Import NLTK modules\n",
    "\n",
    "    Import words corpus and edit_distance function.\n",
    "\n",
    "2)Download the corpus\n",
    "\n",
    "    Use nltk.download() to ensure the words list is available.\n",
    "\n",
    "3)Load the English word list\n",
    "\n",
    "    Get the full vocabulary using words.words().\n",
    "\n",
    "4)Define a function to suggest corrections\n",
    "\n",
    "    Accept a word and vocabulary list.\n",
    "\n",
    "    Filter vocabulary to include only those with similar length (±2 characters).\n",
    "\n",
    "    Compute edit distance between the input word and each filtered word.\n",
    "\n",
    "    Sort by distance and return the top 5 closest matches.\n",
    "\n",
    "5)Input a misspelled word\n",
    "\n",
    "    For example: \"leda\"\n",
    "\n",
    "6)Call the correction function\n",
    "\n",
    "    Get and print the top 5 closest English words based on edit distance"
   ]
  },
  {
   "cell_type": "code",
   "execution_count": 10,
   "id": "f1405cb9",
   "metadata": {},
   "outputs": [
    {
     "name": "stderr",
     "output_type": "stream",
     "text": [
      "[nltk_data] Downloading package words to\n",
      "[nltk_data]     C:\\Users\\Dell\\AppData\\Roaming\\nltk_data...\n",
      "[nltk_data]   Package words is already up-to-date!\n"
     ]
    },
    {
     "name": "stdout",
     "output_type": "stream",
     "text": [
      "Suggestions for 'bycycle':\n",
      "bicycle (edit distance = 1)\n",
      "bicycler (edit distance = 2)\n",
      "bicyclo (edit distance = 2)\n",
      "biocycle (edit distance = 2)\n",
      "cycle (edit distance = 2)\n"
     ]
    }
   ],
   "source": [
    "from nltk.corpus import words\n",
    "from nltk.metrics.distance import edit_distance\n",
    "import nltk\n",
    "nltk.download('words')\n",
    "\n",
    "word_list = words.words()\n",
    "\n",
    "def correct_word(word, vocab):\n",
    "    candidates = [w for w in vocab if abs(len(w) - len(word)) <= 2]\n",
    "    distances = [(w, edit_distance(word, w)) for w in candidates]\n",
    "    distances.sort(key=lambda x: x[1])\n",
    "    return distances[:5]\n",
    "\n",
    "misspelled = 'bycycle' \n",
    "suggestions = correct_word(misspelled, word_list)\n",
    "\n",
    "print(f\"Suggestions for '{misspelled}':\")\n",
    "for word, dist in suggestions:\n",
    "    print(f\"{word} (edit distance = {dist})\")\n"
   ]
  },
  {
   "cell_type": "markdown",
   "id": "3cc8891c",
   "metadata": {},
   "source": [
    "Input : leda (It is a misspelled word)\n",
    "\n",
    "All these words are 1 edit away from \"leda\" — meaning only one letter needs to be inserted, deleted, substituted, or rearranged to form them.\n",
    "\n",
    "Word-by-word Analysis:\n",
    "lea: A valid word; removing 'd' from \"leda\" gives \"lea\".\n",
    "\n",
    "led: Removing 'a' from \"leda\" gives \"led\", which is past tense of \"lead\".\n",
    "\n",
    "Leda: Proper noun; same as \"leda\" but capitalized (could refer to a mythological character).\n",
    "\n",
    "lede: A journalism term for the opening paragraph of a news story; replaces 'a' with 'e'.\n",
    "\n",
    "lepa: May be less common or dialectical; replaces 'd' with 'p'.\n",
    "\n"
   ]
  }
 ],
 "metadata": {
  "kernelspec": {
   "display_name": "Python 3",
   "language": "python",
   "name": "python3"
  },
  "language_info": {
   "codemirror_mode": {
    "name": "ipython",
    "version": 3
   },
   "file_extension": ".py",
   "mimetype": "text/x-python",
   "name": "python",
   "nbconvert_exporter": "python",
   "pygments_lexer": "ipython3",
   "version": "3.11.3"
  }
 },
 "nbformat": 4,
 "nbformat_minor": 5
}
