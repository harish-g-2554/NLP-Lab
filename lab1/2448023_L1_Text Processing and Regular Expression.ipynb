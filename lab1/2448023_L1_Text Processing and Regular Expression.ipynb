{
 "cells": [
  {
   "cell_type": "markdown",
   "id": "bc550ca0",
   "metadata": {},
   "source": [
    "**Question 1**"
   ]
  },
  {
   "cell_type": "code",
   "execution_count": 4,
   "id": "3caa7c16",
   "metadata": {},
   "outputs": [
    {
     "name": "stdout",
     "output_type": "stream",
     "text": [
      "*** Introductory Examples for the NLTK Book ***\n",
      "Loading text1, ..., text9 and sent1, ..., sent9\n",
      "Type the name of the text or sentence to view it.\n",
      "Type: 'texts()' or 'sents()' to list the materials.\n",
      "text1: Moby Dick by Herman Melville 1851\n",
      "text2: Sense and Sensibility by Jane Austen 1811\n",
      "text3: The Book of Genesis\n",
      "text4: Inaugural Address Corpus\n",
      "text5: Chat Corpus\n",
      "text6: Monty Python and the Holy Grail\n",
      "text7: Wall Street Journal\n",
      "text8: Personals Corpus\n",
      "text9: The Man Who Was Thursday by G . K . Chesterton 1908\n"
     ]
    }
   ],
   "source": [
    "from nltk.book import *"
   ]
  },
  {
   "cell_type": "markdown",
   "id": "b7cb422b",
   "metadata": {},
   "source": [
    "SAMPLE EXERCISE\n"
   ]
  },
  {
   "cell_type": "code",
   "execution_count": 12,
   "id": "c76a05cc",
   "metadata": {},
   "outputs": [
    {
     "name": "stdout",
     "output_type": "stream",
     "text": [
      "Displaying 11 of 11 matches:\n",
      "ong the former , one was of a most monstrous size . ... This came towards us , \n",
      "ON OF THE PSALMS . \" Touching that monstrous bulk of the whale or ork we have r\n",
      "ll over with a heathenish array of monstrous clubs and spears . Some were thick\n",
      "d as you gazed , and wondered what monstrous cannibal and savage could ever hav\n",
      "that has survived the flood ; most monstrous and most mountainous ! That Himmal\n",
      "they might scout at Moby Dick as a monstrous fable , or still worse and more de\n",
      "th of Radney .'\" CHAPTER 55 Of the Monstrous Pictures of Whales . I shall ere l\n",
      "ing Scenes . In connexion with the monstrous pictures of whales , I am strongly\n",
      "ere to enter upon those still more monstrous stories of them which are to be fo\n",
      "ght have been rummaged out of this monstrous cabinet there is no telling . But \n",
      "of Whale - Bones ; for Whales of a monstrous size are oftentimes cast up dead u\n",
      "----------------------------------------------------------------------------------------------------\n",
      "Displaying 25 of 79 matches:\n",
      ", however , and , as a mark of his affection for the three girls , he left them\n",
      "t . It was very well known that no affection was ever supposed to exist between\n",
      "deration of politeness or maternal affection on the side of the former , the tw\n",
      "d the suspicion -- the hope of his affection for me may warrant , without impru\n",
      "hich forbade the indulgence of his affection . She knew that his mother neither\n",
      "rd she gave one with still greater affection . Though her late conversation wit\n",
      " can never hope to feel or inspire affection again , and if her home be uncomfo\n",
      "m of the sense , elegance , mutual affection , and domestic comfort of the fami\n",
      ", and which recommended him to her affection beyond every thing else . His soci\n",
      "ween the parties might forward the affection of Mr . Willoughby , an equally st\n",
      " the most pointed assurance of her affection . Elinor could not be surprised at\n",
      "he natural consequence of a strong affection in a young and ardent mind . This \n",
      " opinion . But by an appeal to her affection for her mother , by representing t\n",
      " every alteration of a place which affection had established as perfect with hi\n",
      "e will always have one claim of my affection , which no other can possibly shar\n",
      "f the evening declared at once his affection and happiness . \" Shall we see you\n",
      "ause he took leave of us with less affection than his usual behaviour has shewn\n",
      "ness .\" \" I want no proof of their affection ,\" said Elinor ; \" but of their en\n",
      "onths , without telling her of his affection ;-- that they should part without \n",
      "ould be the natural result of your affection for her . She used to be all unres\n",
      "distinguished Elinor by no mark of affection . Marianne saw and listened with i\n",
      "th no inclination for expense , no affection for strangers , no profession , an\n",
      "till distinguished her by the same affection which once she had felt no doubt o\n",
      "al of her confidence in Edward ' s affection , to the remembrance of every mark\n",
      " was made ? Had he never owned his affection to yourself ?\" \" Oh , no ; but if \n",
      "----------------------------------------------------------------------------------------------------\n",
      "Displaying 25 of 38 matches:\n",
      "ay when they were created . And Adam lived an hundred and thirty years , and be\n",
      "ughters : And all the days that Adam lived were nine hundred and thirty yea and\n",
      "nd thirty yea and he died . And Seth lived an hundred and five years , and bega\n",
      "ve years , and begat Enos : And Seth lived after he begat Enos eight hundred an\n",
      "welve years : and he died . And Enos lived ninety years , and begat Cainan : An\n",
      " years , and begat Cainan : And Enos lived after he begat Cainan eight hundred \n",
      "ive years : and he died . And Cainan lived seventy years and begat Mahalaleel :\n",
      "rs and begat Mahalaleel : And Cainan lived after he begat Mahalaleel eight hund\n",
      "years : and he died . And Mahalaleel lived sixty and five years , and begat Jar\n",
      "s , and begat Jared : And Mahalaleel lived after he begat Jared eight hundred a\n",
      "and five yea and he died . And Jared lived an hundred sixty and two years , and\n",
      "o years , and he begat Eno And Jared lived after he begat Enoch eight hundred y\n",
      " and two yea and he died . And Enoch lived sixty and five years , and begat Met\n",
      " ; for God took him . And Methuselah lived an hundred eighty and seven years , \n",
      " , and begat Lamech . And Methuselah lived after he begat Lamech seven hundred \n",
      "nd nine yea and he died . And Lamech lived an hundred eighty and two years , an\n",
      "ch the LORD hath cursed . And Lamech lived after he begat Noah five hundred nin\n",
      "naan shall be his servant . And Noah lived after the flood three hundred and fi\n",
      "xad two years after the flo And Shem lived after he begat Arphaxad five hundred\n",
      "at sons and daughters . And Arphaxad lived five and thirty years , and begat Sa\n",
      "ars , and begat Salah : And Arphaxad lived after he begat Salah four hundred an\n",
      "begat sons and daughters . And Salah lived thirty years , and begat Eber : And \n",
      "y years , and begat Eber : And Salah lived after he begat Eber four hundred and\n",
      " begat sons and daughters . And Eber lived four and thirty years , and begat Pe\n",
      "y years , and begat Peleg : And Eber lived after he begat Peleg four hundred an\n"
     ]
    }
   ],
   "source": [
    "#Using Concordance\n",
    "\n",
    "text1.concordance(\"monstrous\")\n",
    "print(\"-\"*100)\n",
    "text2.concordance(\"affection\")\n",
    "print(\"-\"*100)\n",
    "text3.concordance(\"lived\")\n"
   ]
  },
  {
   "cell_type": "code",
   "execution_count": 14,
   "id": "87b864c1",
   "metadata": {},
   "outputs": [
    {
     "name": "stdout",
     "output_type": "stream",
     "text": [
      "true contemptible christian abundant few part mean careful puzzled\n",
      "mystifying passing curious loving wise doleful gamesome singular\n",
      "delightfully perilous fearless\n",
      "very so exceedingly heartily a as good great extremely remarkably\n",
      "sweet vast amazingly\n"
     ]
    }
   ],
   "source": [
    "#Trying Similar\n",
    "text1.similar(\"monstrous\")\n",
    "text2.similar(\"monstrous\")"
   ]
  },
  {
   "cell_type": "code",
   "execution_count": null,
   "id": "8723923c",
   "metadata": {},
   "outputs": [
    {
     "name": "stdout",
     "output_type": "stream",
     "text": [
      "am_glad a_pretty a_lucky is_pretty be_glad\n"
     ]
    }
   ],
   "source": [
    "#Trying common contexts\n",
    "text2.common_contexts([\"monstrous\", \"very\"])"
   ]
  },
  {
   "cell_type": "code",
   "execution_count": 1,
   "id": "0ec0480e",
   "metadata": {},
   "outputs": [
    {
     "ename": "NameError",
     "evalue": "name 'text4' is not defined",
     "output_type": "error",
     "traceback": [
      "\u001b[31m---------------------------------------------------------------------------\u001b[39m",
      "\u001b[31mNameError\u001b[39m                                 Traceback (most recent call last)",
      "\u001b[36mCell\u001b[39m\u001b[36m \u001b[39m\u001b[32mIn[1]\u001b[39m\u001b[32m, line 2\u001b[39m\n\u001b[32m      1\u001b[39m \u001b[38;5;66;03m#Plots\u001b[39;00m\n\u001b[32m----> \u001b[39m\u001b[32m2\u001b[39m \u001b[43mtext4\u001b[49m.dispersion_plot([\u001b[33m\"\u001b[39m\u001b[33mcitizens\u001b[39m\u001b[33m\"\u001b[39m, \u001b[33m\"\u001b[39m\u001b[33mdemocracy\u001b[39m\u001b[33m\"\u001b[39m, \u001b[33m\"\u001b[39m\u001b[33mfreedom\u001b[39m\u001b[33m\"\u001b[39m, \u001b[33m\"\u001b[39m\u001b[33mduties\u001b[39m\u001b[33m\"\u001b[39m, \u001b[33m\"\u001b[39m\u001b[33mAmerica\u001b[39m\u001b[33m\"\u001b[39m])\n",
      "\u001b[31mNameError\u001b[39m: name 'text4' is not defined"
     ]
    }
   ],
   "source": [
    "#Plots\n",
    "text4.dispersion_plot([\"citizens\", \"democracy\", \"freedom\", \"duties\", \"America\"])"
   ]
  },
  {
   "cell_type": "code",
   "execution_count": null,
   "id": "9db8fca2",
   "metadata": {},
   "outputs": [
    {
     "name": "stderr",
     "output_type": "stream",
     "text": [
      "Building ngram index...\n"
     ]
    },
    {
     "name": "stdout",
     "output_type": "stream",
     "text": [
      "laid by her , and said unto Cain , Where art thou , and said , Go to ,\n",
      "I will not do it for ten ' s sons ; we dreamed each man according to\n",
      "their generatio the firstborn said unto Laban , Because I said , Nay ,\n",
      "but Sarah shall her name be . , duke Elah , duke Shobal , and Akan .\n",
      "and looked upon my affliction . Bashemath Ishmael ' s blood , but Isra\n",
      "for as a prince hast thou found of all the cattle in the valley , and\n",
      "the wo The\n"
     ]
    },
    {
     "data": {
      "text/plain": [
       "\"laid by her , and said unto Cain , Where art thou , and said , Go to ,\\nI will not do it for ten ' s sons ; we dreamed each man according to\\ntheir generatio the firstborn said unto Laban , Because I said , Nay ,\\nbut Sarah shall her name be . , duke Elah , duke Shobal , and Akan .\\nand looked upon my affliction . Bashemath Ishmael ' s blood , but Isra\\nfor as a prince hast thou found of all the cattle in the valley , and\\nthe wo The\""
      ]
     },
     "execution_count": 17,
     "metadata": {},
     "output_type": "execute_result"
    }
   ],
   "source": [
    "#Using Generate\n",
    "text3.generate()"
   ]
  },
  {
   "cell_type": "markdown",
   "id": "1398ef00",
   "metadata": {},
   "source": [
    "**QUESTION 2**\n"
   ]
  },
  {
   "cell_type": "code",
   "execution_count": 25,
   "id": "1902094a",
   "metadata": {},
   "outputs": [
    {
     "name": "stderr",
     "output_type": "stream",
     "text": [
      "[nltk_data] Downloading package punkt to\n",
      "[nltk_data]     C:\\Users\\Dell\\AppData\\Roaming\\nltk_data...\n",
      "[nltk_data]   Package punkt is already up-to-date!\n"
     ]
    }
   ],
   "source": [
    "from nltk.tokenize import word_tokenize\n",
    "nltk.download('punkt')\n",
    "from collections import Counter"
   ]
  },
  {
   "cell_type": "code",
   "execution_count": null,
   "id": "54dbe2f5",
   "metadata": {},
   "outputs": [],
   "source": [
    "#Assigning a string w paragraph\n",
    "paragraph = \"\"\"Natural language processing (NLP) is a subfield of linguistics, computer science, and artificial intelligence concerned with the interactions between computers and human language.\"\"\"\n"
   ]
  },
  {
   "cell_type": "code",
   "execution_count": null,
   "id": "a8800788",
   "metadata": {},
   "outputs": [],
   "source": [
    "#Counting Toatal and Unique Word counts\n",
    "words = word_tokenize(paragraph.lower())\n",
    "total_words = len(words)\n",
    "unique_words = len(set(words))"
   ]
  },
  {
   "cell_type": "code",
   "execution_count": null,
   "id": "758416fd",
   "metadata": {},
   "outputs": [],
   "source": [
    "#Word Frequencies\n",
    "freq = Counter(words)\n",
    "most_common = freq.most_common(1)\n",
    "least_common = freq.most_common()[-1]\n",
    "longest_word = max(words, key=len)"
   ]
  },
  {
   "cell_type": "code",
   "execution_count": null,
   "id": "7fbb2976",
   "metadata": {},
   "outputs": [
    {
     "name": "stdout",
     "output_type": "stream",
     "text": [
      "Total words: 28\n",
      "Unique words: 25\n",
      "Most frequent word: [('language', 2)]\n",
      "Least frequent word: ('.', 1)\n",
      "Longest word: intelligence\n"
     ]
    }
   ],
   "source": [
    "#Output\n",
    "print(\"Total words:\", total_words)\n",
    "print(\"Unique words:\", unique_words)\n",
    "print(\"Most frequent word:\", most_common)\n",
    "print(\"Least frequent word:\", least_common)\n",
    "print(\"Longest word:\", longest_word)"
   ]
  },
  {
   "cell_type": "markdown",
   "id": "cd6f50bf",
   "metadata": {},
   "source": [
    "**QUESTION 3**"
   ]
  },
  {
   "cell_type": "code",
   "execution_count": 27,
   "id": "122c9efb",
   "metadata": {},
   "outputs": [
    {
     "data": {
      "text/plain": [
       "['abc', '_temp1', 'var_name']"
      ]
     },
     "execution_count": 27,
     "metadata": {},
     "output_type": "execute_result"
    }
   ],
   "source": [
    "#Exercise 2.1\n",
    "import re\n",
    "re.findall(r'\\b[a-zA-Z_][a-zA-Z0-9_]*\\b', 'abc _temp1 23start var_name')\n"
   ]
  },
  {
   "cell_type": "code",
   "execution_count": null,
   "id": "16ca3776",
   "metadata": {},
   "outputs": [
    {
     "data": {
      "text/plain": [
       "[\"Don't\", 'hesitate', 'to', 'ask', 'questions']"
      ]
     },
     "execution_count": 28,
     "metadata": {},
     "output_type": "execute_result"
    }
   ],
   "source": [
    "#Exercise 2.2\n",
    "text = \"Don't hesitate to ask questions!\"\n",
    "re.findall(r\"[A-Za-z]+(?:'[A-Za-z]+)?\", text)"
   ]
  },
  {
   "cell_type": "markdown",
   "id": "b5dc4a17",
   "metadata": {},
   "source": [
    "**ADDITIONAL QUESTION**"
   ]
  },
  {
   "cell_type": "code",
   "execution_count": 50,
   "id": "04b96f98",
   "metadata": {},
   "outputs": [
    {
     "name": "stderr",
     "output_type": "stream",
     "text": [
      "[nltk_data] Downloading package stopwords to\n",
      "[nltk_data]     C:\\Users\\Dell\\AppData\\Roaming\\nltk_data...\n",
      "[nltk_data]   Package stopwords is already up-to-date!\n"
     ]
    },
    {
     "data": {
      "text/plain": [
       "<Axes: xlabel='Samples', ylabel='Counts'>"
      ]
     },
     "execution_count": 50,
     "metadata": {},
     "output_type": "execute_result"
    },
    {
     "data": {
      "image/png": "[encoded data removed]",
      "text/plain": [
       "<Figure size 640x480 with 1 Axes>"
      ]
     },
     "metadata": {},
     "output_type": "display_data"
    }
   ],
   "source": [
    "#Practice Question 1\n",
    "import string\n",
    "import matplotlib.pyplot as plt\n",
    "from nltk.corpus import stopwords\n",
    "\n",
    "# Sample text\n",
    "text = open(\"chapter.txt\", encoding='utf-8').read().lower()\n",
    "tokens = word_tokenize(text)\n",
    "tokens = [word for word in tokens if word.isalpha()]\n",
    "\n",
    "# Removing stopwords\n",
    "nltk.download('stopwords')\n",
    "stop_words = set(stopwords.words('english'))\n",
    "filtered_tokens = [word for word in tokens if word not in stop_words]\n",
    "\n",
    "# Frequency distribution\n",
    "fdist = nltk.FreqDist(filtered_tokens)\n",
    "fdist.plot(30, cumulative=False)\n"
   ]
  },
  {
   "cell_type": "markdown",
   "id": "ea75bce4",
   "metadata": {},
   "source": [
    "**Practice Quesion 2**"
   ]
  },
  {
   "cell_type": "code",
   "execution_count": 41,
   "id": "f47951b2",
   "metadata": {},
   "outputs": [
    {
     "name": "stdout",
     "output_type": "stream",
     "text": [
      "Words that ends with ize []\n",
      "Words that contain z ['zone', 'amazes', 'Fetchez', 'Fetchez', 'zoop', 'zoo', 'zhiv', 'frozen', 'zoosh']\n",
      "Words containing pt ['empty', 'aptly', 'Thpppppt', 'Thppt', 'Thppt', 'empty', 'Thppppt', 'temptress', 'temptation', 'ptoo', 'Chapter', 'excepting', 'Thpppt']\n",
      "Words with Inital capital letters ['Whoa', 'Halt', 'Who', 'It', 'I', 'Arthur', 'Uther', 'Pendragon', 'Camelot', 'King', 'Britons', 'Saxons', 'England', 'Pull', 'I', 'Patsy', 'We', 'Camelot', 'I', 'What', 'Ridden', 'Yes', 'You', 'What', 'You', 'So', 'We', 'Mercea', 'Where', 'We', 'Found', 'In', 'Mercea', 'The', 'What', 'Well', 'The', 'Are', 'Not', 'They', 'What', 'A', 'It', 'It', 'It', 'A', 'Well', 'Will', 'Arthur', 'Court', 'Camelot', 'Listen', 'In', 'Please', 'Am', 'I', 'I', 'It', 'African', 'Oh', 'African', 'European', 'That', 'Oh', 'I', 'Will', 'Camelot', 'But', 'African', 'Oh', 'So', 'Wait', 'Supposing', 'No', 'Well', 'They', 'What', 'Well', 'Bring', 'Bring', 'Bring', 'Bring', 'Bring', 'Bring', 'Bring', 'Bring', 'Ninepence', 'Bring', 'Bring', 'Bring', 'Bring', 'Here', 'Ninepence', 'I', 'What', 'Nothing', 'Here', 'I', 'Ere', 'He', 'Yes', 'I', 'He', 'Well', 'He', 'I', 'No', 'You', 'Oh', 'I', 'It', 'I', 'Oh', 'I', 'I', 'Well', 'I', 'Well', 'He', 'No', 'I', 'Robinson', 'They', 'Well', 'Thursday', 'I', 'I', 'You', 'Look', 'I', 'I', 'Ah', 'Not', 'See', 'Thursday', 'Right', 'All', 'Who', 'I', 'Must', 'Why', 'He', 'King', 'Arthur', 'King', 'Arthur', 'Old', 'Man', 'Man', 'Sorry', 'What', 'I', 'I', 'I', 'I', 'Well', 'I', 'Man', 'Well', 'Dennis', 'Well', 'I', 'Dennis', 'Well', 'I', 'What', 'I', 'Well', 'I', 'Oh', 'And', 'By', 'By', 'If', 'Dennis', 'Oh', 'How', 'How', 'I', 'Arthur', 'King', 'Britons', 'Who', 'King', 'The', 'Britons', 'Who', 'Britons', 'Well', 'We', 'Britons', 'I', 'I', 'I', 'You', 'We', 'A', 'Oh', 'That', 'If', 'Please', 'I', 'Who', 'No', 'Then', 'We', 'What', 'I', 'We', 'We', 'Yes', 'But', 'Yes', 'I', 'By', 'Be', 'But', 'Be', 'I', 'Order', 'Who', 'Heh', 'I', 'Well', 'I', 'You', 'Well', 'The', 'Lady', 'Lake', 'Excalibur', 'Divine', 'Providence', 'I', 'Arthur', 'Excalibur', 'That', 'I', 'Listen', 'Supreme', 'Be', 'Well', 'Shut', 'I', 'I', 'I', 'Shut', 'Shut', 'Ah', 'Shut', 'Oh', 'Come', 'Help', 'I', 'Bloody', 'Oh', 'Did', 'Did', 'That', 'I', 'Did', 'You', 'King', 'Arthur', 'Aaagh', 'King', 'Arthur', 'Aaagh', 'Ooh', 'King', 'Arthur', 'Aagh', 'Oh', 'King', 'Arthur', 'Ooh', 'Aaagh', 'Agh', 'Aaaaaah', 'Aaaaaaaaah', 'Umm', 'You', 'Sir', 'Knight', 'I', 'Arthur', 'King', 'Britons', 'I', 'Camelot', 'You', 'Will', 'You', 'So', 'Come', 'Patsy', 'None', 'What', 'None', 'I', 'Sir', 'Knight', 'I', 'Then', 'I', 'King', 'Britons', 'I', 'So', 'Aaah', 'Now', 'Tis', 'A', 'Your', 'No', 'Well', 'I', 'You', 'Come', 'Huyah', 'Hiyaah', 'Aaaaaaaah', 'Victory', 'We', 'Thee', 'Lord', 'Thy', 'Hah', 'Come', 'What', 'Have', 'Eh', 'You', 'Sir', 'Knight', 'Oh', 'Look', 'You', 'Yes', 'I', 'Look', 'Just', 'Look', 'Chicken', 'Chickennn', 'Look', 'I', 'Right', 'Right', 'I', 'You', 'Come', 'What', 'I', 'You', 'The', 'Black', 'Knight', 'Have', 'Come', 'Ooh', 'All', 'Come', 'Patsy', 'Oh', 'Oh', 'I', 'Running', 'You', 'Come', 'I', 'Pie', 'Iesu', 'Pie', 'Iesu', 'Pie', 'Iesu', 'A', 'A', 'A', 'A', 'Pie', 'Iesu', 'A', 'A', 'A', 'A', 'We', 'A', 'A', 'A', 'A', 'We', 'A', 'A', 'Burn', 'Burn', 'Burn', 'We', 'We', 'A', 'A', 'A', 'We', 'May', 'Burn', 'Burn', 'Burn', 'Burn', 'How', 'She', 'Right', 'Yeah', 'Yeah', 'Bring', 'I', 'I', 'Uh', 'They', 'Augh', 'We', 'And', 'It', 'Well', 'Well', 'The', 'And', 'Yeah', 'We', 'Right', 'Yeaaah', 'Yeaah', 'Did', 'No', 'No', 'No', 'No', 'No', 'No', 'Yes', 'Yes', 'Yes', 'Yeah', 'A', 'A', 'A', 'She', 'What', 'Well', 'A', 'I', 'Burn', 'Burn', 'Burn', 'Burn', 'Burn', 'Quiet', 'Quiet', 'Quiet', 'Quiet', 'There', 'Are', 'Ah', 'What', 'Tell', 'Tell', 'Tell', 'Burn', 'Burn', 'Burn', 'Burn', 'Burn', 'And', 'More', 'Shh', 'Wood', 'So', 'B', 'Good', 'Heh', 'Oh', 'Oh', 'So', 'Build', 'Ah', 'Oh', 'Oh', 'True', 'Uhh', 'Does', 'No', 'No', 'No', 'It', 'Throw', 'The', 'Throw', 'What', 'Bread', 'Apples', 'Uh', 'Cider', 'Uh', 'Cherries', 'Mud', 'Churches', 'Churches', 'Lead', 'Lead', 'A', 'Oooh', 'Exactly', 'So', 'If', 'And', 'A', 'A', 'A', 'A', 'Here', 'Use', 'We', 'Ohh', 'Ohh', 'Burn', 'Burn', 'Burn', 'Burn', 'Burn', 'Burn', 'Burn', 'Burn', 'Burn', 'Ahh', 'Ahh', 'Right', 'Remove', 'A', 'A', 'A', 'It', 'Burn', 'Burn', 'Burn', 'Burn', 'Burn', 'Burn', 'Who', 'I', 'Arthur', 'King', 'Britons', 'My', 'Good', 'Sir', 'Knight', 'Camelot', 'Round', 'Table', 'My', 'I', 'What', 'Bedevere', 'Then', 'I', 'Sir', 'Bedevere', 'Knight', 'Round', 'Table', 'The', 'Sir', 'Bedevere', 'King', 'Arthur', 'Sir', 'Lancelot', 'Brave', 'Sir', 'Gallahad', 'Pure', 'Sir', 'Robin', 'Sir', 'Lancelot', 'Dragon', 'Angnor', 'Chicken', 'Bristol', 'Battle', 'Badon', 'Hill', 'Sir', 'Not', 'Together', 'Knights', 'Round', 'Table', 'And', 'This', 'Sir', 'Bedevere', 'Explain', 'Oh', 'Look', 'Camelot', 'Camelot', 'Camelot', 'It', 'Shh', 'Knights', 'I', 'Let', 'Camelot', 'We', 'We', 'We', 'With', 'We', 'Camelot', 'We', 'We', 'Round', 'Table', 'Our', 'But', 'That', 'We', 'Camelot', 'We', 'In', 'Quite', 'Between', 'Clark', 'Gable', 'It', 'Camelot', 'I', 'Well', 'Camelot', 'It', 'Right', 'Right', 'Arthur', 'Arthur', 'King', 'Britons', 'Oh', 'One', 'I', 'Sorry', 'And', 'Every', 'I', 'I', 'What', 'I', 'O', 'Lord', 'Well', 'It', 'Psalms', 'Now', 'Yes', 'Lord', 'Right', 'Arthur', 'King', 'Britons', 'Knights', 'Round', 'Table', 'Good', 'O', 'Lord', 'Course', 'Behold', 'Arthur', 'Holy', 'Grail', 'Look', 'Arthur', 'That', 'Arthur', 'Holy', 'Grail', 'A', 'A', 'Lord', 'God', 'King', 'Arthur', 'Halt', 'Hallo', 'Hallo', 'Allo', 'Who', 'It', 'King', 'Arthur', 'Knights', 'Round', 'Table', 'Who', 'This', 'Guy', 'Loimbard', 'Go', 'God', 'If', 'Holy', 'Grail', 'Well', 'I', 'I', 'Uh', 'What', 'He', 'Are', 'Oh', 'I', 'Well', 'Of', 'You', 'English', 'Well', 'I', 'French', 'Why', 'I', 'What', 'England', 'Mind', 'If', 'Grail', 'You', 'English', 'Go', 'I', 'Arthur', 'King', 'English', 'Thpppppt', 'Thppt', 'Thppt', 'What', 'Now', 'I', 'I', 'You', 'Is', 'No', 'I', 'Now', 'I', 'Fetchez', 'Quoi', 'Fetchez', 'If', 'I', 'Jesus', 'Christ', 'Christ', 'Ah', 'Ohh', 'Right', 'Charge', 'Charge', 'Hey', 'There', 'And', 'Run', 'Run', 'Thppppt', 'Fiends', 'I', 'No', 'No', 'Sir', 'I', 'C', 'Quoi', 'Un', 'What', 'A', 'Oh', 'Oui', 'Hurry', 'What', 'Let', 'Oh', 'On', 'Bon', 'Over', 'What', 'Well', 'Launcelot', 'Galahad', 'I', 'French', 'Not', 'Who', 'U', 'Launcelot', 'Galahad', 'I', 'Uh', 'Ohh', 'Oh', 'Um', 'Run', 'Run', 'Run', 'Run', 'Run', 'Run', 'Run', 'Run', 'Oh', 'Haw', 'Haw', 'Picture', 'Schools', 'Action', 'Defeat', 'King', 'Arthur', 'The', 'French', 'Arthur', 'Holy', 'Grail', 'Arthur', 'Grail', 'Now', 'Launcelot', 'Aaaah', 'S', 'Frank', 'The', 'Tale', 'Sir', 'Robin', 'So', 'Sir', 'Robin', 'Ewing', 'Bravely', 'Sir', 'Robin', 'Camelot', 'He', 'O', 'Sir', 'Robin', 'He', 'Brave', 'Sir', 'Robin', 'He', 'Or', 'To', 'And', 'Sir', 'Robin', 'His', 'And', 'And', 'And', 'That', 'Heh', 'Looks', 'Anarcho', 'Oh', 'Dennis', 'We', 'Halt', 'Who', 'He', 'Sir', 'Robin', 'Sir', 'Robin', 'Shut', 'Um', 'I', 'What', 'To', 'Shut', 'Um', 'I', 'Sir', 'Knight', 'I', 'Ah', 'W', 'I', 'I', 'Knight', 'Round', 'Table', 'You', 'Knight', 'Round', 'Table', 'I', 'In', 'I', 'Shall', 'I', 'Oh', 'I', 'Well', 'I', 'I', 'Oh', 'Oh', 'Perhaps', 'I', 'And', 'Oh', 'Get', 'I', 'Oh', 'Yes', 'What', 'Yapping', 'You', 'You', 'What', 'You', 'Oh', 'I', 'Anyway', 'Well', 'Oh', 'Oh', 'All', 'All', 'We', 'Yes', 'Oh', 'All', 'All', 'Right', 'He', 'So', 'He', 'Brave', 'Sir', 'Robin', 'No', 'Bravely', 'I', 'When', 'No', 'Yes', 'Sir', 'Robin', 'I', 'And', 'I', 'He', 'All', 'Bravest', 'Sir', 'Robin', 'I', 'Pie', 'Iesu', 'Heh', 'Pie', 'Iesu', 'Wayy', 'Ho', 'Woa', 'Heh', 'Heh', 'Wayy', 'Wayy', 'Forgive', 'Oh', 'Oooo', 'The', 'Tale', 'Sir', 'Galahad', 'Open', 'Open', 'In', 'King', 'Arthur', 'Hello', 'Welcome', 'Sir', 'Knight', 'Welcome', 'Castle', 'Anthrax', 'The', 'Castle', 'Anthrax', 'Yes', 'Oh', 'Oh', 'You', 'Holy', 'Grail', 'The', 'The', 'Grail', 'It', 'Oh', 'Midget', 'Crapper', 'Yes', 'O', 'Zoot', 'Prepare', 'Oh', 'Thank', 'Thank', 'Thank', 'Thank', 'Thank', 'Away', 'The', 'Well', 'I', 'I', 'What', 'Sir', 'Galahad', 'Chaste', 'Mine', 'Zoot', 'Just', 'Zoot', 'Oh', 'Look', 'In', 'God', 'Grail', 'Oh', 'You', 'No', 'I', 'It', 'Sir', 'Galahad', 'You', 'Well', 'I', 'I', 'Oh', 'I', 'We', 'Oooh', 'It', 'We', 'Nay', 'Nay', 'Come', 'Come', 'You', 'Oh', 'No', 'Oh', 'No', 'Lie', 'Well', 'They', 'Uh', 'B', 'Oh', 'You', 'Doctor', 'Piglet', 'Doctor', 'Winston', 'Practice', 'Try', 'Are', 'We', 'There', 'Please', 'We', 'Look', 'This', 'I', 'Back', 'At', 'Torment', 'I', 'Grail', 'There', 'I', 'I', 'I', 'Hello', 'Oh', 'Hello', 'Hello', 'Hello', 'Hello', 'Hello', 'Hello', 'Hello', 'Hello', 'Hello', 'Hello', 'Hello', 'Hello', 'Hello', 'Hello', 'Hello', 'Hello', 'Hello', 'Hello', 'Hello', 'Hello', 'Hello', 'Hello', 'Hello', 'Zoot', 'No', 'I', 'Zoot', 'Dingo', 'Oh', 'I', 'Where', 'I', 'Grail', 'I', 'Oh', 'Oh', 'Bad', 'Zoot', 'Well', 'Oh', 'Zoot', 'She', 'I', 'It', 'It', 'Grail', 'Oh', 'Zoot', 'She', 'Do', 'We', 'It', 'I', 'At', 'Well', 'It', 'Get', 'Yes', 'Yes', 'Oh', 'I', 'Get', 'Oh', 'Zoot', 'Oh', 'And', 'Castle', 'Anthrax', 'You', 'A', 'A', 'You', 'And', 'And', 'And', 'And', 'And', 'Yes', 'A', 'A', 'There', 'And', 'The', 'The', 'Well', 'I', 'Sir', 'Galahad', 'Oh', 'Quick', 'What', 'Quick', 'Why', 'You', 'No', 'Silence', 'You', 'Come', 'We', 'Look', 'I', 'Come', 'Sir', 'Galahad', 'No', 'Look', 'I', 'Yes', 'Let', 'Yes', 'Let', 'No', 'Sir', 'Galahad', 'Come', 'No', 'Really', 'Honestly', 'I', 'I', 'Oh', 'Let', 'Yes', 'Let', 'No', 'Quick', 'Quick', 'Please', 'I', 'There', 'Yes', 'He', 'We', 'We', 'He', 'Oh', 'We', 'You', 'I', 'I', 'Yes', 'You', 'Look', 'No', 'Look', 'I', 'No', 'Holy', 'Grail', 'Come', 'Oh', 'No', 'It', 'I', 'No', 'I', 'Sir', 'Launcelot', 'Sir', 'Galahad', 'Grail', 'Meanwhile', 'King', 'Arthur', 'Sir', 'Bedevere', 'Oh', 'I', 'I', 'Get', 'Oh', 'On', 'Arthur', 'I', 'Heh', 'Hee', 'And', 'Grail', 'Ha', 'Heh', 'Ha', 'Ha', 'Where', 'Heh', 'Old', 'Hee', 'He', 'And', 'Grail', 'The', 'Grail', 'There', 'Gorge', 'Eternal', 'Peril', 'But', 'Grail', 'Where', 'Grail', 'Seek', 'Bridge', 'Death', 'The', 'Bridge', 'Death', 'Grail', 'Heh', 'Ha', 'Hee', 'Ni', 'Ni', 'Ni', 'Ni', 'Ni', 'Ni', 'Who', 'We', 'Knights', 'Who', 'Say', 'Ni', 'Ni', 'No', 'Not', 'Knights', 'Who', 'Say', 'Ni', 'The', 'Who', 'We', 'Ni', 'Peng', 'Neee', 'Neee', 'Those', 'The', 'Knights', 'Who', 'Say', 'Ni', 'Knights', 'Ni', 'Ni', 'Ni', 'Ni', 'Ni', 'Ni', 'Ni', 'Ow', 'Ow', 'Ow', 'Agh', 'We', 'Well', 'We', 'A', 'Ni', 'Ni', 'Ni', 'Ni', 'Ow', 'Oh', 'Please', 'No', 'We', 'You', 'O', 'Knights', 'Ni', 'One', 'Of', 'And', 'Yes', 'Now', 'Hmm', 'Oh', 'Great', 'Hm', 'Hmm', 'Hm', 'Hmm', 'Ohh', 'Ay', 'Thsss', 'Ayy', 'Thsss', 'Ayy', 'Stop', 'Stop', 'Ay', 'Stop', 'Look', 'Clear', 'Go', 'Go', 'Go', 'Go', 'And', 'Clear', 'Hah', 'Bloody', 'The', 'Tale', 'Sir', 'Launcelot', 'One', 'What', 'No', 'Not', 'All', 'This', 'But', 'Mother', 'Father', 'Father', 'B', 'Father', 'I', 'Listen', 'I', 'When', 'I', 'Other', 'I', 'I', 'It', 'So', 'I', 'That', 'So', 'I', 'That', 'But', 'And', 'But', 'I', 'I', 'Rather', 'I', 'Stop', 'Stop', 'You', 'I', 'Now', 'In', 'Britain', 'B', 'I', 'Listen', 'Alice', 'Herbert', 'Erbert', 'We', 'We', 'But', 'I', 'Don', 'What', 'She', 'She', 'She', 'I', 'I', 'I', 'Cut', 'Cut', 'Look', 'Princess', 'Lucky', 'Guards', 'Make', 'Prince', 'I', 'Not', 'Hic', 'No', 'Until', 'I', 'Until', 'No', 'No', 'You', 'And', 'Hic', 'Right', 'We', 'No', 'Leaving', 'Leaving', 'Yes', 'All', 'Right', 'Hic', 'Right', 'Oh', 'Yes', 'What', 'Oh', 'Look', 'Uh', 'You', 'Alright', 'Hic', 'Right', 'Oh', 'I', 'Uhh', 'N', 'No', 'You', 'Oh', 'We', 'But', 'No', 'Just', 'Until', 'No', 'Just', 'Just', 'Hic', 'Get', 'Get', 'All', 'Right', 'We', 'Hic', 'And', 'What', 'Make', 'The', 'Prince', 'Yes', 'Make', 'Oh', 'Hic', 'Ah', 'I', 'You', 'Is', 'Hic', 'Oh', 'No', 'Right', 'Where', 'We', 'No', 'I', 'Oh', 'I', 'Right', 'But', 'Father', 'Shut', 'And', 'And', 'Hic', 'Oh', 'Well', 'Concorde', 'Thank', 'Most', 'And', 'Over', 'Good', 'Steady', 'And', 'Uuh', 'Come', 'Concorde', 'Message', 'Concorde', 'Concorde', 'Speak', 'To', 'I', 'Please', 'I', 'Tall', 'Tower', 'Swamp', 'Castle', 'At', 'A', 'A', 'This', 'Holy', 'Grail', 'Brave', 'Concorde', 'Uh', 'I', 'I', 'Well', 'I', 'I', 'I', 'I', 'I', 'Oh', 'I', 'Actually', 'I', 'I', 'No', 'Concorde', 'Stay', 'I', 'I', 'Idiom', 'Idiom', 'No', 'I', 'Farewell', 'Concorde', 'I', 'I', 'Shall', 'I', 'Yeah', 'Morning', 'Morning', 'Oooh', 'Ha', 'Hiyya', 'Hey', 'Hiyya', 'Ha', 'Ha', 'Huy', 'Uuh', 'Aaah', 'Ha', 'And', 'Aah', 'Hiyah', 'Aah', 'Aaah', 'Hyy', 'Hya', 'Hiyya', 'Ha', 'Now', 'O', 'Sir', 'Launcelot', 'Camelot', 'I', 'Oh', 'I', 'You', 'Uh', 'I', 'I', 'You', 'Uh', 'You', 'I', 'I', 'I', 'Well', 'I', 'Stop', 'Stop', 'Stop', 'Stop', 'Who', 'I', 'No', 'Uh', 'I', 'Sir', 'Launcelot', 'He', 'Father', 'Well', 'Did', 'Uh', 'Oh', 'Sorry', 'They', 'Well', 'I', 'Um', 'I', 'Don', 'Sir', 'Launcelot', 'I', 'You', 'Well', 'I', 'I', 'Hurry', 'Sir', 'Launcelot', 'Hurry', 'Shut', 'You', 'Well', 'I', 'Didn', 'You', 'Oh', 'Is', 'You', 'This', 'Well', 'I', 'I', 'Camelot', 'I', 'Camelot', 'Are', 'Camelot', 'Hurry', 'Sir', 'Launcelot', 'Uh', 'I', 'Knight', 'King', 'Arthur', 'Very', 'Camelot', 'Uh', 'Is', 'Hurry', 'I', 'Would', 'Well', 'I', 'I', 'Um', 'Oooh', 'I', 'I', 'I', 'Oh', 'Oooh', 'Well', 'We', 'There', 'Oh', 'Ha', 'Hey', 'Ha', 'Hold', 'Stop', 'Hold', 'Hold', 'Hold', 'Hold', 'Hold', 'Please', 'Sorry', 'Sorry', 'You', 'I', 'I', 'I', 'Sorry', 'Sorry', 'He', 'Hold', 'Hold', 'Please', 'Hold', 'This', 'Sir', 'Launcelot', 'Court', 'Camelot', 'Hello', 'He', 'Please', 'Please', 'This', 'Let', 'We', 'Unfortunately', 'Herbert', 'Oh', 'Oh', 'But', 'I', 'I', 'For', 'He', 'Since', 'He', 'For', 'S', 'Uugh', 'Oh', 'And', 'I', 'And', 'I', 'Princess', 'Sir', 'Launcelot', 'Camelot', 'What', 'Look', 'The', 'Prince', 'Oooh', 'The', 'Prince', 'He', 'No', 'I', 'You', 'Tall', 'Tower', 'No', 'I', 'How', 'Well', 'I', 'Not', 'Not', 'No', 'Stop', 'He', 'He', 'Shut', 'He', 'Shut', 'He', 'Shut', 'He', 'Not', 'He', 'He', 'He', 'He', 'Quickly', 'He', 'Come', 'He', 'He', 'No', 'It', 'He', 'I', 'Oh', 'Dramatically', 'Dramatically', 'But', 'Heee', 'Hoa', 'Hoo', 'What', 'Excuse', 'Could', 'King', 'Arthur', 'Old', 'Is', 'Who', 'The', 'Knights', 'Who', 'Say', 'Ni', 'Aggh', 'No', 'Never', 'We', 'If', 'I', 'Agh', 'Do', 'Very', 'If', 'No', 'Never', 'No', 'Ni', 'Nu', 'No', 'Nu', 'No', 'Nu', 'No', 'You', 'No', 'Ni', 'Ni', 'That', 'That', 'You', 'Ni', 'Ohh', 'Ni', 'Ni', 'Agh', 'Ni', 'Ni', 'Ni', 'Ni', 'Ni', 'Are', 'Erm', 'Oh', 'There', 'Nothing', 'Even', 'Did', 'Yes', 'Shrubberies', 'I', 'My', 'Roger', 'Shrubber', 'I', 'Ni', 'No', 'No', 'No', 'O', 'Knights', 'Ni', 'May', 'It', 'I', 'But', 'What', 'We', 'Knights', 'Who', 'Say', 'Ni', 'Ni', 'Shh', 'Shh', 'We', 'Knights', 'Who', 'Say', 'Ecky', 'Ni', 'Therefore', 'What', 'O', 'Knights', 'Knights', 'Who', 'Til', 'Recently', 'Said', 'Ni', 'Firstly', 'Not', 'Ni', 'Then', 'A', 'A', 'A', 'Ni', 'Shh', 'Ni', 'Ni', 'Ni', 'Shh', 'Shh', 'Then', 'We', 'Oh', 'Cut', 'It', 'Aaaugh', 'Aaaugh', 'Augh', 'Ohh', 'Don', 'What', 'I', 'Knights', 'Ni', 'How', 'Aaaaugh', 'You', 'What', 'Agh', 'No', 'No', 'You', 'No', 'Not', 'My', 'Sir', 'Robin', 'Packing', 'And', 'And', 'Yes', 'Sir', 'Robin', 'My', 'It', 'Now', 'Surely', 'Holy', 'Grail', 'He', 'Shut', 'No', 'No', 'Far', 'He', 'Aaaaugh', 'I', 'Aaaaugh', 'Uh', 'No', 'Aaaaugh', 'Aaaaugh', 'Stop', 'The', 'Oh', 'Ow', 'He', 'Patsy', 'Wait', 'I', 'I', 'Ooh', 'I', 'And', 'That', 'Ohh', 'Aaaaugh', 'And', 'Arthur', 'Bedevere', 'Sir', 'Robin', 'Beyond', 'Launcelot', 'Galahad', 'Yay', 'Yay', 'In', 'Nador', 'Robin', 'Get', 'Eee', 'And', 'Yay', 'A', 'Winter', 'Spring', 'Mmm', 'Spring', 'Summer', 'Oh', 'Ahh', 'Summer', 'Winter', 'Oh', 'And', 'Winter', 'Spring', 'Summer', 'Autumn', 'Aah', 'Oh', 'Waa', 'Until', 'King', 'Arthur', 'Eh', 'Oh', 'See', 'Oh', 'Oh', 'Knights', 'Forward', 'What', 'I', 'By', 'There', 'Tim', 'Greetings', 'Tim', 'Enchanter', 'Greetings', 'King', 'Arthur', 'You', 'I', 'You', 'Holy', 'Grail', 'That', 'You', 'O', 'Tim', 'Quite', 'Oh', 'Yes', 'Holy', 'Grail', 'Our', 'Holy', 'Grail', 'Yeah', 'Yes', 'It', 'It', 'Yeah', 'Yup', 'Yup', 'Hm', 'And', 'Yes', 'Yeah', 'We', 'We', 'We', 'Ages', 'Umhm', 'Uh', 'Look', 'Fine', 'Um', 'I', 'I', 'A', 'A', 'A', 'Yes', 'I', 'Y', 'Yes', 'Yup', 'That', 'Yes', 'Oh', 'Oh', 'Thank', 'Ahh', 'Oh', 'Fine', 'Thank', 'Splendid', 'Aah', 'Look', 'Yes', 'I', 'Holy', 'Grail', 'Oh', 'Oh', 'To', 'Caerbannog', 'Olfin', 'Bedwere', 'Rheged', 'Holy', 'Grail', 'Where', 'O', 'Tim', 'Follow', 'But', 'Follow', 'Bones', 'So', 'What', 'They', 'Then', 'Dis', 'Behold', 'Caerbannog', 'Right', 'Keep', 'What', 'W', 'Too', 'What', 'There', 'Where', 'There', 'What', 'It', 'You', 'What', 'You', 'Well', 'Ohh', 'That', 'You', 'I', 'I', 'Look', 'Get', 'He', 'Oh', 'You', 'I', 'What', 'He', 'Go', 'Bors', 'Chop', 'Right', 'Silly', 'One', 'Look', 'Aaaugh', 'Jesus', 'Christ', 'I', 'I', 'I', 'Oh', 'Oh', 'Well', 'I', 'Oh', 'Do', 'Right', 'Oh', 'Charge', 'Aaaaugh', 'Aaaugh', 'Run', 'Run', 'Run', 'Run', 'Ha', 'Ha', 'Ha', 'Ha', 'Right', 'How', 'Gawain', 'Ector', 'And', 'Bors', 'That', 'Three', 'Three', 'Three', 'And', 'That', 'Would', 'Oh', 'Let', 'It', 'Like', 'Well', 'Have', 'No', 'We', 'Holy', 'Hand', 'Grenade', 'Yes', 'The', 'Holy', 'Hand', 'Grenade', 'Antioch', 'Tis', 'Brother', 'Maynard', 'Brother', 'Maynard', 'Bring', 'Holy', 'Hand', 'Grenade', 'Pie', 'Iesu', 'Pie', 'Iesu', 'Pie', 'Iesu', 'Pie', 'Iesu', 'How', 'I', 'Consult', 'Book', 'Armaments', 'Armaments', 'Chapter', 'Two', 'Nine', 'Twenty', 'And', 'Saint', 'Attila', 'O', 'Lord', 'And', 'Lord', 'Skip', 'Brother', 'And', 'Lord', 'First', 'Holy', 'Pin', 'Then', 'Three', 'Four', 'Five', 'Once', 'Holy', 'Hand', 'Grenade', 'Antioch', 'Amen', 'Amen', 'Right', 'One', 'Three', 'Three', 'There', 'Look', 'What', 'What', 'Brother', 'Maynard', 'You', 'It', 'Aramaic', 'Of', 'Joseph', 'Arimathea', 'Course', 'What', 'It', 'Here', 'Joseph', 'Arimathea', 'He', 'Holy', 'Grail', 'Castle', 'What', 'Castle', 'What', 'He', 'Oh', 'Well', 'Look', 'He', 'Well', 'Perhaps', 'Oh', 'Well', 'No', 'Just', 'Aauuggghhh', 'Aaauggh', 'Do', 'Camaaaaaargue', 'Where', 'France', 'I', 'Isn', 'Saint', 'Aauuuves', 'Cornwall', 'No', 'Saint', 'Ives', 'Oh', 'Saint', 'Iiiives', 'Iiiiives', 'Oooohoohohooo', 'No', 'Aauuuuugh', 'Aauuugh', 'N', 'No', 'Oooooooh', 'Oh', 'Yes', 'I', 'Oooh', 'My', 'God', 'It', 'Black', 'Beast', 'Aaauugh', 'Black', 'Beast', 'Aaauugh', 'That', 'That', 'Run', 'Run', 'Run', 'Run', 'Run', 'Keep', 'Shh', 'Shh', 'Shh', 'Shh', 'Shh', 'Shh', 'Shh', 'Shh', 'We', 'Aagh', 'As', 'Black', 'Beast', 'Arthur', 'Ulk', 'The', 'The', 'Holy', 'Grail', 'There', 'The', 'Bridge', 'Death', 'Oh', 'Look', 'There', 'What', 'He', 'Bridge', 'Death', 'He', 'Three', 'Three', 'He', 'Three', 'Three', 'What', 'Then', 'Gorge', 'Eternal', 'Peril', 'Oh', 'I', 'Who', 'Sir', 'Robin', 'Yes', 'Brave', 'Sir', 'Robin', 'Hey', 'I', 'Why', 'Launcelot', 'Yes', 'Let', 'I', 'I', 'No', 'No', 'Hang', 'Hang', 'Hang', 'Just', 'Three', 'Three', 'And', 'I', 'Good', 'Sir', 'Launcelot', 'God', 'Stop', 'Who', 'Bridge', 'Death', 'Ask', 'I', 'What', 'My', 'Sir', 'Launcelot', 'Camelot', 'What', 'To', 'Holy', 'Grail', 'What', 'Blue', 'Right', 'Off', 'Oh', 'Thank', 'That', 'Stop', 'Who', 'Bridge', 'Death', 'Ask', 'I', 'What', 'Sir', 'Robin', 'Camelot', 'What', 'To', 'Holy', 'Grail', 'What', 'Assyria', 'I', 'Auuuuuuuugh', 'Stop', 'What', 'Sir', 'Galahad', 'Camelot', 'What', 'I', 'Grail', 'What', 'Blue', 'No', 'Hee', 'Stop', 'What', 'It', 'Arthur', 'King', 'Britons', 'What', 'To', 'Holy', 'Grail', 'What', 'What', 'An', 'African', 'European', 'Huh', 'I', 'I', 'Auuuuuuuugh', 'How', 'Well', 'Launcelot', 'Launcelot', 'Launcelot', 'Launcelot', 'Launcelot', 'Launcelot', 'Launcelot', 'Launcelot', 'Launcelot', 'The', 'Castle', 'Aaagh', 'Our', 'God', 'Almighty', 'God', 'Thee', 'Thou', 'Jesus', 'Christ', 'Allo', 'English', 'Monsieur', 'Arthur', 'King', 'So', 'French', 'How', 'I', 'Knights', 'Camelot', 'God', 'Himself', 'How', 'English', 'I', 'So', 'French', 'I', 'In', 'Lord', 'No', 'English', 'I', 'If', 'In', 'God', 'Agh', 'Right', 'That', 'Yes', 'Ha', 'Walk', 'Just', 'And', 'And', 'English', 'Thpppt', 'We', 'Yes', 'Stand', 'French', 'Dappy', 'Today', 'In', 'God', 'Hoo', 'Ohh', 'Holy', 'Grail', 'God', 'Ha', 'Charge', 'Hooray', 'S', 'Yes', 'They', 'I', 'Come', 'Anybody', 'All', 'Come', 'Back', 'S', 'Get', 'Back', 'Right', 'Just', 'Come', 'Come', 'Put', 'Clear', 'Come', 'With', 'Which', 'Oh', 'Come', 'Put', 'Get', 'We', 'Ahh', 'Ooh', 'Come', 'Back', 'Riiight', 'Come', 'Run', 'Run', 'Pull', 'My', 'Come', 'Back', 'Back', 'Right', 'Come', 'Everything', 'All', 'That', 'Just', 'Christ']\n"
     ]
    }
   ],
   "source": [
    "#Question 24\n",
    "# a. Ending in 'ize'\n",
    "words_ize = [w for w in text6 if w.endswith('ize')]\n",
    "print(\"Words that ends with ize\",words_ize)\n",
    "\n",
    "# b. Containing 'z'\n",
    "words_z = [w for w in text6 if 'z' in w]\n",
    "print(\"Words that contain z\",words_z)\n",
    "\n",
    "# c. Containing 'pt'\n",
    "words_pt = [w for w in text6 if 'pt' in w]\n",
    "print(\"Words containing pt\",words_pt)\n",
    "\n",
    "# d. Titlecase (initial capital)\n",
    "words_title = [w for w in text6 if w.istitle() and w.isalpha()]\n",
    "print(\"Words with Inital capital letters\",words_title)\n"
   ]
  },
  {
   "cell_type": "code",
   "execution_count": null,
   "id": "22efafa2",
   "metadata": {},
   "outputs": [
    {
     "name": "stdout",
     "output_type": "stream",
     "text": [
      "Words that begins with sh ['she', 'shells', 'shore']\n",
      "Words which are longer than 4 characters ['sells', 'shells', 'shore']\n"
     ]
    }
   ],
   "source": [
    "#Question 25\n",
    "sent = ['she', 'sells', 'sea', 'shells', 'by', 'the', 'sea', 'shore']\n",
    "\n",
    "# a. Words starting with 'sh'\n",
    "sh_words = [w for w in sent if w.startswith('sh')]\n",
    "print(\"Words that begins with sh\",sh_words)\n",
    "\n",
    "# b. Words longer than 4 characters\n",
    "long_words = [w for w in sent if len(w) > 4]\n",
    "print(\"Words which are longer than 4 characters\",long_words)\n"
   ]
  },
  {
   "cell_type": "code",
   "execution_count": null,
   "id": "5c855951",
   "metadata": {},
   "outputs": [
    {
     "name": "stdout",
     "output_type": "stream",
     "text": [
      "Average word length: 3.83\n"
     ]
    }
   ],
   "source": [
    "#Question 26\n",
    "total_chars = sum(len(w) for w in text1)\n",
    "total_words = len(text1)\n",
    "average_word_length = total_chars / total_words\n",
    "\n",
    "print(f\"Average word length: {average_word_length:.2f}\")\n",
    "\n",
    "#Iterates over all words w in text1\n",
    "#for each word w, it calculates len(w) i.e. the number of characters in the word.\n",
    "#sum() adds up these lengths\n"
   ]
  },
  {
   "cell_type": "code",
   "execution_count": null,
   "id": "8f0a5a73",
   "metadata": {},
   "outputs": [
    {
     "name": "stdout",
     "output_type": "stream",
     "text": [
      "Vocabulary size of text1 (Moby Dick): 19317\n"
     ]
    }
   ],
   "source": [
    "#Question 27\n",
    "def vocab_size(text):\n",
    "    return len(set(text))\n",
    "\n",
    "print(\"Vocabulary size of text1 (Moby Dick):\", vocab_size(text1))"
   ]
  },
  {
   "cell_type": "code",
   "execution_count": 48,
   "id": "49a3344b",
   "metadata": {},
   "outputs": [
    {
     "name": "stdout",
     "output_type": "stream",
     "text": [
      "Percentage of 'whale' in text1: 0.3473673313677301\n"
     ]
    }
   ],
   "source": [
    "#Question 28\n",
    "def percent(word, text):\n",
    "    return 100 * text.count(word) / len(text)\n",
    "\n",
    "print(\"Percentage of 'whale' in text1:\", percent(\"whale\", text1))"
   ]
  },
  {
   "cell_type": "code",
   "execution_count": null,
   "id": "3babe96f",
   "metadata": {},
   "outputs": [],
   "source": [
    "def separate_sentiment_words(text, positive_words, negative_words):\n",
    "    tokens = word_tokenize(text.lower())\n",
    "    pos = [word for word in tokens if word in positive_words]\n",
    "    neg = [word for word in tokens if word in negative_words]\n",
    "    return pos, neg"
   ]
  }
 ],
 "metadata": {
  "kernelspec": {
   "display_name": "Python 3",
   "language": "python",
   "name": "python3"
  },
  "language_info": {
   "codemirror_mode": {
    "name": "ipython",
    "version": 3
   },
   "file_extension": ".py",
   "mimetype": "text/x-python",
   "name": "python",
   "nbconvert_exporter": "python",
   "pygments_lexer": "ipython3",
   "version": "3.11.3"
  }
 },
 "nbformat": 4,
 "nbformat_minor": 5
}
